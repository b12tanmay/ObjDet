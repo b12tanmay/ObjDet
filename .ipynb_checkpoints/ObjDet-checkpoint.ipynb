{
 "cells": [
  {
   "cell_type": "code",
   "execution_count": 5,
   "id": "784e4b0b-a897-4c27-b1ce-ba7a9e421a54",
   "metadata": {},
   "outputs": [],
   "source": [
    "import cv2 as cv"
   ]
  },
  {
   "cell_type": "code",
   "execution_count": 6,
   "id": "8988e949-3816-43db-9437-04a7acdf90e8",
   "metadata": {},
   "outputs": [],
   "source": [
    "cap=cv.VideoCapture(r\"C:\\Users\\Poonam\\Documents\\GitHub\\ObjDet\\video.mp4\")"
   ]
  },
  {
   "cell_type": "code",
   "execution_count": 7,
   "id": "3c637ea8-b273-4524-945c-0e5c21fad52d",
   "metadata": {},
   "outputs": [
    {
     "name": "stdout",
     "output_type": "stream",
     "text": [
      "< cv2.BackgroundSubtractorMOG2 00000198702A8D90>\n",
      "Video has ended\n"
     ]
    }
   ],
   "source": [
    "obj_det=cv.createBackgroundSubtractorMOG2()\n",
    "print(obj_det)\n",
    "try:\n",
    "    while True:\n",
    "        ret, frame = cap.read()\n",
    "        #1. object detection\n",
    "        mask=obj_det.apply(frame)\n",
    "        cv.imshow(\"Mask\",mask)\n",
    "        key= cv.waitKey(30)\n",
    "        if key==27:\n",
    "            break\n",
    "except:\n",
    "    print('Video has ended')\n",
    "cap.release()\n",
    "cv.destroyAllWindows()"
   ]
  },
  {
   "cell_type": "code",
   "execution_count": 4,
   "id": "60e05318-241c-4d5e-a48f-a4c18eae30f9",
   "metadata": {},
   "outputs": [
    {
     "ename": "error",
     "evalue": "OpenCV(4.8.1) D:\\a\\opencv-python\\opencv-python\\opencv\\modules\\highgui\\src\\window.cpp:971: error: (-215:Assertion failed) size.width>0 && size.height>0 in function 'cv::imshow'\n",
     "output_type": "error",
     "traceback": [
      "\u001b[1;31m---------------------------------------------------------------------------\u001b[0m",
      "\u001b[1;31merror\u001b[0m                                     Traceback (most recent call last)",
      "Cell \u001b[1;32mIn[4], line 6\u001b[0m\n\u001b[0;32m      3\u001b[0m \u001b[38;5;28;01mfor\u001b[39;00m cnt \u001b[38;5;129;01min\u001b[39;00m contours:\n\u001b[0;32m      4\u001b[0m     cv\u001b[38;5;241m.\u001b[39mdrawContours(frame, [cnt], \u001b[38;5;241m-\u001b[39m\u001b[38;5;241m1\u001b[39m, (\u001b[38;5;241m0\u001b[39m,\u001b[38;5;241m255\u001b[39m,\u001b[38;5;241m0\u001b[39m), \u001b[38;5;241m2\u001b[39m)\n\u001b[1;32m----> 6\u001b[0m \u001b[43mcv\u001b[49m\u001b[38;5;241;43m.\u001b[39;49m\u001b[43mimshow\u001b[49m\u001b[43m(\u001b[49m\u001b[38;5;124;43m'\u001b[39;49m\u001b[38;5;124;43mFrame\u001b[39;49m\u001b[38;5;124;43m'\u001b[39;49m\u001b[43m,\u001b[49m\u001b[43mframe\u001b[49m\u001b[43m)\u001b[49m\n\u001b[0;32m      7\u001b[0m cv\u001b[38;5;241m.\u001b[39mimshow(\u001b[38;5;124m'\u001b[39m\u001b[38;5;124mMask\u001b[39m\u001b[38;5;124m'\u001b[39m, mask)\n\u001b[0;32m      8\u001b[0m key\u001b[38;5;241m=\u001b[39m cv\u001b[38;5;241m.\u001b[39mwaitKey(\u001b[38;5;241m30\u001b[39m)\n",
      "\u001b[1;31merror\u001b[0m: OpenCV(4.8.1) D:\\a\\opencv-python\\opencv-python\\opencv\\modules\\highgui\\src\\window.cpp:971: error: (-215:Assertion failed) size.width>0 && size.height>0 in function 'cv::imshow'\n"
     ]
    }
   ],
   "source": [
    "mask=obj_det.apply(frame)\n",
    "contours, _ = cv.findContours(mask,cv.RETR_TREE,cv.CHAIN_APPROX_SIMPLE)\n",
    "for cnt in contours:\n",
    "    cv.drawContours(frame, [cnt], -1, (0,255,0), 2)\n",
    "\n",
    "cv.imshow('Frame',frame)\n",
    "cv.imshow('Mask', mask)\n",
    "key= cv.waitKey(30)\n",
    "\n",
    "if key==27:\n",
    "    break\n",
    "cap.release()\n",
    "cv.destroyAllWindows()   "
   ]
  },
  {
   "cell_type": "markdown",
   "id": "d9fce6c5-5ee0-42ef-b63d-08a6a38d6932",
   "metadata": {},
   "source": []
  },
  {
   "cell_type": "code",
   "execution_count": null,
   "id": "fd024a52-2eef-47cd-9d44-4c32c6a49a20",
   "metadata": {},
   "outputs": [],
   "source": []
  }
 ],
 "metadata": {
  "kernelspec": {
   "display_name": "Python 3 (ipykernel)",
   "language": "python",
   "name": "python3"
  },
  "language_info": {
   "codemirror_mode": {
    "name": "ipython",
    "version": 3
   },
   "file_extension": ".py",
   "mimetype": "text/x-python",
   "name": "python",
   "nbconvert_exporter": "python",
   "pygments_lexer": "ipython3",
   "version": "3.11.1"
  }
 },
 "nbformat": 4,
 "nbformat_minor": 5
}
