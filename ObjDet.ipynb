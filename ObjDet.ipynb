{
 "cells": [
  {
   "cell_type": "code",
   "execution_count": 1,
   "id": "784e4b0b-a897-4c27-b1ce-ba7a9e421a54",
   "metadata": {},
   "outputs": [],
   "source": [
    "import cv2 as cv"
   ]
  },
  {
   "cell_type": "code",
   "execution_count": 2,
   "id": "8988e949-3816-43db-9437-04a7acdf90e8",
   "metadata": {},
   "outputs": [],
   "source": [
    "cap=cv.VideoCapture(r\"C:\\Users\\Poonam\\Documents\\GitHub\\ObjDet\\video.mp4\")"
   ]
  },
  {
   "cell_type": "code",
   "execution_count": 3,
   "id": "3c637ea8-b273-4524-945c-0e5c21fad52d",
   "metadata": {},
   "outputs": [],
   "source": [
    "obj_det=cv.createBackgroundSubtractorMOG2()"
   ]
  },
  {
   "cell_type": "code",
   "execution_count": 4,
   "id": "60e05318-241c-4d5e-a48f-a4c18eae30f9",
   "metadata": {},
   "outputs": [],
   "source": [
    "while True:\n",
    "    ret, frame = cap.read()\n",
    "    if ret== True:\n",
    "        mask=obj_det.apply(frame)\n",
    "        _,mask=cv.threshold(mask,254,255,cv.THRESH_BINARY)\n",
    "        contours, _ = cv.findContours(mask,cv.RETR_TREE,cv.CHAIN_APPROX_SIMPLE)\n",
    "        for cnt in contours:\n",
    "            area=cv.contourArea(cnt)\n",
    "            if area>100:\n",
    "                cv.drawContours(frame, [cnt], -1, (0,255,0), 2)\n",
    "\n",
    "        cv.imshow('Frame',frame)\n",
    "#        cv.imshow('Mask', mask)\n",
    "        key= cv.waitKey(30)\n",
    "        if key==27:\n",
    "            break\n",
    "\n",
    "    else:\n",
    "        break\n",
    "cap.release()\n",
    "cv.destroyAllWindows()   "
   ]
  },
  {
   "cell_type": "code",
   "execution_count": null,
   "id": "8cc91ade-49b4-4013-9041-989df216f052",
   "metadata": {},
   "outputs": [],
   "source": []
  }
 ],
 "metadata": {
  "kernelspec": {
   "display_name": "Python 3 (ipykernel)",
   "language": "python",
   "name": "python3"
  },
  "language_info": {
   "codemirror_mode": {
    "name": "ipython",
    "version": 3
   },
   "file_extension": ".py",
   "mimetype": "text/x-python",
   "name": "python",
   "nbconvert_exporter": "python",
   "pygments_lexer": "ipython3",
   "version": "3.11.1"
  }
 },
 "nbformat": 4,
 "nbformat_minor": 5
}
